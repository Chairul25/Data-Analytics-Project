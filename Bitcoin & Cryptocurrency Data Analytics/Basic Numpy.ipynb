{
 "cells": [
  {
   "cell_type": "code",
   "execution_count": null,
   "id": "accepted-latest",
   "metadata": {},
   "outputs": [],
   "source": [
    "import sys\n",
    "import numpy as np"
   ]
  },
  {
   "cell_type": "markdown",
   "id": "anonymous-scanner",
   "metadata": {},
   "source": [
    "# Basic Numpy Arrays"
   ]
  },
  {
   "cell_type": "code",
   "execution_count": null,
   "id": "entitled-rebecca",
   "metadata": {},
   "outputs": [],
   "source": [
    "np.array([1, 2, 3, 4])"
   ]
  },
  {
   "cell_type": "code",
   "execution_count": null,
   "id": "lonely-parameter",
   "metadata": {},
   "outputs": [],
   "source": [
    "a = np.array([1, 2, 3, 4])\n",
    "b = np.array([0, .5, 1, 1.5, 2])\n",
    "a[0], a[1]"
   ]
  },
  {
   "cell_type": "code",
   "execution_count": null,
   "id": "capital-movie",
   "metadata": {},
   "outputs": [],
   "source": [
    "a[0:]"
   ]
  },
  {
   "cell_type": "code",
   "execution_count": null,
   "id": "transsexual-rebecca",
   "metadata": {},
   "outputs": [],
   "source": [
    "a[1:3]"
   ]
  },
  {
   "cell_type": "code",
   "execution_count": null,
   "id": "interim-austria",
   "metadata": {},
   "outputs": [],
   "source": [
    "a[1:-1]"
   ]
  },
  {
   "cell_type": "code",
   "execution_count": null,
   "id": "acceptable-environment",
   "metadata": {},
   "outputs": [],
   "source": [
    "a[[0, 2, 3]]"
   ]
  },
  {
   "cell_type": "code",
   "execution_count": null,
   "id": "subsequent-hollywood",
   "metadata": {},
   "outputs": [],
   "source": [
    "a[::2]"
   ]
  },
  {
   "cell_type": "code",
   "execution_count": null,
   "id": "confidential-hanging",
   "metadata": {},
   "outputs": [],
   "source": [
    "A = np.array([\n",
    "    [1, 2, 3],\n",
    "    [4, 5, 6]\n",
    "])\n",
    "\n",
    "A.shape"
   ]
  },
  {
   "cell_type": "code",
   "execution_count": null,
   "id": "equal-cholesterol",
   "metadata": {},
   "outputs": [],
   "source": [
    "A.ndim #number of dimension"
   ]
  },
  {
   "cell_type": "code",
   "execution_count": null,
   "id": "grand-domain",
   "metadata": {},
   "outputs": [],
   "source": [
    "A.size"
   ]
  },
  {
   "cell_type": "code",
   "execution_count": null,
   "id": "recovered-immunology",
   "metadata": {},
   "outputs": [],
   "source": [
    "B = np.array([\n",
    "    [\n",
    "        [12, 11, 10],\n",
    "        [9, 8, 7]\n",
    "    ],\n",
    "    [\n",
    "        [6, 5, 4],\n",
    "        [3, 2, 1]\n",
    "    ]\n",
    "])\n",
    "\n",
    "B #Three dimensions matrices"
   ]
  },
  {
   "cell_type": "code",
   "execution_count": null,
   "id": "controlled-entry",
   "metadata": {},
   "outputs": [],
   "source": [
    "B.shape"
   ]
  },
  {
   "cell_type": "code",
   "execution_count": null,
   "id": "peaceful-office",
   "metadata": {},
   "outputs": [],
   "source": [
    "B.ndim"
   ]
  },
  {
   "cell_type": "code",
   "execution_count": null,
   "id": "empirical-utility",
   "metadata": {},
   "outputs": [],
   "source": [
    "B.size"
   ]
  },
  {
   "cell_type": "code",
   "execution_count": null,
   "id": "finnish-sailing",
   "metadata": {},
   "outputs": [],
   "source": [
    "B.dtype #type of data"
   ]
  },
  {
   "cell_type": "markdown",
   "id": "focused-burden",
   "metadata": {},
   "source": [
    "# Indexing and Slicing of Matrices"
   ]
  },
  {
   "cell_type": "code",
   "execution_count": null,
   "id": "comparable-assembly",
   "metadata": {},
   "outputs": [],
   "source": [
    "# Square Matix\n",
    "\n",
    "A = np.array([\n",
    "    [1, 2, 3],\n",
    "    [4, 5, 6],\n",
    "    [7, 8, 9]\n",
    "])"
   ]
  },
  {
   "cell_type": "code",
   "execution_count": null,
   "id": "floppy-poster",
   "metadata": {},
   "outputs": [],
   "source": [
    "A[1] #It represent row. Row and column start from 0"
   ]
  },
  {
   "cell_type": "code",
   "execution_count": null,
   "id": "preceding-alert",
   "metadata": {},
   "outputs": [],
   "source": [
    "A[0][1] #first is row and second is column"
   ]
  },
  {
   "cell_type": "code",
   "execution_count": null,
   "id": "shaped-accommodation",
   "metadata": {},
   "outputs": [],
   "source": [
    "A[0, 1] #first is row and second is column"
   ]
  },
  {
   "cell_type": "code",
   "execution_count": null,
   "id": "saved-nursing",
   "metadata": {},
   "outputs": [],
   "source": [
    "A[0:2] #It select first row until the last number before the last row"
   ]
  },
  {
   "cell_type": "code",
   "execution_count": null,
   "id": "metropolitan-electron",
   "metadata": {},
   "outputs": [],
   "source": [
    "A[:, :2] #It select all rows and columns except the last column"
   ]
  },
  {
   "cell_type": "code",
   "execution_count": null,
   "id": "choice-affiliate",
   "metadata": {},
   "outputs": [],
   "source": [
    "A[:2, :2] #It select all rows and column except the last row and column"
   ]
  },
  {
   "cell_type": "code",
   "execution_count": null,
   "id": "hearing-cement",
   "metadata": {},
   "outputs": [],
   "source": [
    "A[:2, 1:] #It select all rows except the last and all column from the second column"
   ]
  },
  {
   "cell_type": "code",
   "execution_count": null,
   "id": "sought-socket",
   "metadata": {},
   "outputs": [],
   "source": [
    "A[:, 1:2]"
   ]
  },
  {
   "cell_type": "code",
   "execution_count": null,
   "id": "visible-juice",
   "metadata": {},
   "outputs": [],
   "source": [
    "A[1] = np.array([6, 5, 4]) #It changes the rows elements\n",
    "A"
   ]
  },
  {
   "cell_type": "code",
   "execution_count": null,
   "id": "chinese-degree",
   "metadata": {},
   "outputs": [],
   "source": [
    "A[1, 0] = 4 #It changes for the spesific row and c\n",
    "A"
   ]
  },
  {
   "cell_type": "code",
   "execution_count": null,
   "id": "accepted-milwaukee",
   "metadata": {},
   "outputs": [],
   "source": [
    "A[1, 2] = 6\n",
    "A"
   ]
  },
  {
   "cell_type": "markdown",
   "id": "prime-diamond",
   "metadata": {},
   "source": [
    "# Summary Statistics"
   ]
  },
  {
   "cell_type": "code",
   "execution_count": null,
   "id": "grand-spelling",
   "metadata": {},
   "outputs": [],
   "source": [
    "a = np.array([1, 2, 3, 4])\n",
    "a.sum()"
   ]
  },
  {
   "cell_type": "code",
   "execution_count": null,
   "id": "consolidated-vacation",
   "metadata": {},
   "outputs": [],
   "source": [
    "a.mean()"
   ]
  },
  {
   "cell_type": "code",
   "execution_count": null,
   "id": "adult-suite",
   "metadata": {},
   "outputs": [],
   "source": [
    "a.std() #It's for standar deviation"
   ]
  },
  {
   "cell_type": "code",
   "execution_count": null,
   "id": "comprehensive-advantage",
   "metadata": {},
   "outputs": [],
   "source": [
    "a.var() #Compute the variance along the specified axis"
   ]
  },
  {
   "cell_type": "code",
   "execution_count": null,
   "id": "casual-anthony",
   "metadata": {},
   "outputs": [],
   "source": [
    "A.sum()"
   ]
  },
  {
   "cell_type": "code",
   "execution_count": null,
   "id": "rural-reverse",
   "metadata": {},
   "outputs": [],
   "source": [
    "A.mean()"
   ]
  },
  {
   "cell_type": "code",
   "execution_count": null,
   "id": "lasting-remainder",
   "metadata": {},
   "outputs": [],
   "source": [
    "np.median(A)"
   ]
  },
  {
   "cell_type": "code",
   "execution_count": null,
   "id": "advisory-punch",
   "metadata": {},
   "outputs": [],
   "source": [
    "A.sum(axis = 0) #It's the sum of the first, second, and third column"
   ]
  },
  {
   "cell_type": "code",
   "execution_count": null,
   "id": "educated-outreach",
   "metadata": {},
   "outputs": [],
   "source": [
    "A.sum(axis = 1) #It's the sum of the first, second, and third rows"
   ]
  },
  {
   "cell_type": "code",
   "execution_count": null,
   "id": "leading-waters",
   "metadata": {},
   "outputs": [],
   "source": [
    "A.mean(axis = 0)"
   ]
  },
  {
   "cell_type": "code",
   "execution_count": null,
   "id": "random-somerset",
   "metadata": {},
   "outputs": [],
   "source": [
    "A.mean(axis = 1)"
   ]
  },
  {
   "cell_type": "markdown",
   "id": "impaired-margin",
   "metadata": {},
   "source": [
    "# Broadcasting and Vectorized Operations"
   ]
  },
  {
   "cell_type": "code",
   "execution_count": null,
   "id": "frozen-consequence",
   "metadata": {},
   "outputs": [],
   "source": [
    "a = np.arange(4) #Array creation routines based on numerical arange\n",
    "a"
   ]
  },
  {
   "cell_type": "code",
   "execution_count": null,
   "id": "desperate-athens",
   "metadata": {},
   "outputs": [],
   "source": [
    "a + 10 #It will added each elements of the array"
   ]
  },
  {
   "cell_type": "code",
   "execution_count": null,
   "id": "thorough-spotlight",
   "metadata": {},
   "outputs": [],
   "source": [
    "a * 10"
   ]
  },
  {
   "cell_type": "code",
   "execution_count": null,
   "id": "inside-turkish",
   "metadata": {},
   "outputs": [],
   "source": [
    "#All of the command above doesn't change the values of the entire array, It just operated."
   ]
  },
  {
   "cell_type": "code",
   "execution_count": null,
   "id": "advance-palestine",
   "metadata": {},
   "outputs": [],
   "source": [
    "#To modify the values of the entire array, we could see the code below!"
   ]
  },
  {
   "cell_type": "code",
   "execution_count": null,
   "id": "difficult-poultry",
   "metadata": {},
   "outputs": [],
   "source": [
    "a += 100"
   ]
  },
  {
   "cell_type": "code",
   "execution_count": null,
   "id": "diverse-alabama",
   "metadata": {},
   "outputs": [],
   "source": [
    "a"
   ]
  },
  {
   "cell_type": "code",
   "execution_count": null,
   "id": "technical-right",
   "metadata": {},
   "outputs": [],
   "source": [
    "#See? It changes for the new values. So when we use this array again, the values has modified."
   ]
  },
  {
   "cell_type": "code",
   "execution_count": null,
   "id": "documentary-thumbnail",
   "metadata": {},
   "outputs": [],
   "source": [
    "l = [0, 1, 2, 3]"
   ]
  },
  {
   "cell_type": "code",
   "execution_count": null,
   "id": "indonesian-metabolism",
   "metadata": {},
   "outputs": [],
   "source": [
    "[i * 10 for i in l]"
   ]
  },
  {
   "cell_type": "code",
   "execution_count": null,
   "id": "nasty-funds",
   "metadata": {},
   "outputs": [],
   "source": [
    "#Let's back again with the first values, run again your 12th lines!"
   ]
  },
  {
   "cell_type": "code",
   "execution_count": null,
   "id": "internal-chicago",
   "metadata": {},
   "outputs": [],
   "source": [
    "b = np.array([25, 25, 25, 25])\n",
    "b"
   ]
  },
  {
   "cell_type": "code",
   "execution_count": null,
   "id": "classical-blues",
   "metadata": {},
   "outputs": [],
   "source": [
    "a + b"
   ]
  },
  {
   "cell_type": "code",
   "execution_count": null,
   "id": "listed-learning",
   "metadata": {},
   "outputs": [],
   "source": [
    "a * b"
   ]
  },
  {
   "cell_type": "markdown",
   "id": "acute-suffering",
   "metadata": {},
   "source": [
    "# Boolean Arrays\n",
    "(*Also called masks*)"
   ]
  },
  {
   "cell_type": "code",
   "execution_count": null,
   "id": "labeled-challenge",
   "metadata": {},
   "outputs": [],
   "source": [
    "a = np.arange(4)\n",
    "a"
   ]
  },
  {
   "cell_type": "code",
   "execution_count": null,
   "id": "inclusive-emphasis",
   "metadata": {},
   "outputs": [],
   "source": [
    "a[[0, -1]]"
   ]
  },
  {
   "cell_type": "code",
   "execution_count": null,
   "id": "prostate-playlist",
   "metadata": {},
   "outputs": [],
   "source": [
    "a[0], a[-1]"
   ]
  },
  {
   "cell_type": "code",
   "execution_count": null,
   "id": "acceptable-contamination",
   "metadata": {},
   "outputs": [],
   "source": [
    "a[[True, False, False, True]] #It will the same with vectorized, but with boolean."
   ]
  },
  {
   "cell_type": "code",
   "execution_count": null,
   "id": "offshore-wagon",
   "metadata": {},
   "outputs": [],
   "source": [
    "a >= 2"
   ]
  },
  {
   "cell_type": "code",
   "execution_count": null,
   "id": "human-restriction",
   "metadata": {},
   "outputs": [],
   "source": [
    "a[a >= 2]"
   ]
  },
  {
   "cell_type": "code",
   "execution_count": null,
   "id": "instructional-garage",
   "metadata": {},
   "outputs": [],
   "source": [
    "a.mean()"
   ]
  },
  {
   "cell_type": "code",
   "execution_count": null,
   "id": "satisfactory-teens",
   "metadata": {},
   "outputs": [],
   "source": [
    "a[a > a.mean()]"
   ]
  },
  {
   "cell_type": "code",
   "execution_count": null,
   "id": "short-volleyball",
   "metadata": {},
   "outputs": [],
   "source": [
    "a[~(a > a.mean())] #~ means for negation"
   ]
  },
  {
   "cell_type": "code",
   "execution_count": null,
   "id": "smaller-hardwood",
   "metadata": {},
   "outputs": [],
   "source": [
    "a[(a == 0) | (a == 1)] #| means or"
   ]
  },
  {
   "cell_type": "code",
   "execution_count": null,
   "id": "ranging-behavior",
   "metadata": {},
   "outputs": [],
   "source": [
    "a[(a <= 2) & (a % 2 == 0)] #& means and, let's breakdown this code below!"
   ]
  },
  {
   "cell_type": "code",
   "execution_count": null,
   "id": "absent-roberts",
   "metadata": {},
   "outputs": [],
   "source": [
    "a[(a <= 2)]"
   ]
  },
  {
   "cell_type": "code",
   "execution_count": null,
   "id": "future-intelligence",
   "metadata": {},
   "outputs": [],
   "source": [
    "a%2 #It's the modulus, the reminder from the division. In this case, the reminder of each element are divided by 2"
   ]
  },
  {
   "cell_type": "code",
   "execution_count": null,
   "id": "crazy-deviation",
   "metadata": {},
   "outputs": [],
   "source": [
    "a[a%2 == 0] #It indicate that the reminder of the modulus are zero from each element. So the elements that satisfies are 0 and 2"
   ]
  },
  {
   "cell_type": "code",
   "execution_count": null,
   "id": "perfect-environment",
   "metadata": {},
   "outputs": [],
   "source": [
    "#So, lines 48 became like that."
   ]
  },
  {
   "cell_type": "code",
   "execution_count": null,
   "id": "developmental-bullet",
   "metadata": {},
   "outputs": [],
   "source": [
    "A = np.random.randint(100, size=(3, 3)) #random integer\n",
    "A"
   ]
  },
  {
   "cell_type": "code",
   "execution_count": null,
   "id": "functioning-sleeping",
   "metadata": {},
   "outputs": [],
   "source": [
    "A > 30"
   ]
  },
  {
   "cell_type": "code",
   "execution_count": null,
   "id": "standard-vision",
   "metadata": {},
   "outputs": [],
   "source": [
    "A[A > 30]"
   ]
  },
  {
   "cell_type": "markdown",
   "id": "inner-volunteer",
   "metadata": {},
   "source": [
    "# Linear Algebra"
   ]
  },
  {
   "cell_type": "code",
   "execution_count": null,
   "id": "insured-necessity",
   "metadata": {},
   "outputs": [],
   "source": [
    "A = np.array([\n",
    "    [1, 2, 3],\n",
    "    [4, 5, 6],\n",
    "    [7, 8, 9]\n",
    "])"
   ]
  },
  {
   "cell_type": "code",
   "execution_count": null,
   "id": "surrounded-track",
   "metadata": {},
   "outputs": [],
   "source": [
    "B = np.array([\n",
    "    [6, 5],\n",
    "    [4, 3],\n",
    "    [2, 1]\n",
    "])"
   ]
  },
  {
   "cell_type": "code",
   "execution_count": null,
   "id": "roman-integrity",
   "metadata": {},
   "outputs": [],
   "source": [
    "A.dot(B) #Dot product. In the case above, we did A.B matrices (3x3 and 3x2)"
   ]
  },
  {
   "cell_type": "code",
   "execution_count": null,
   "id": "intermediate-infrared",
   "metadata": {},
   "outputs": [],
   "source": [
    "A @ B #Cross product"
   ]
  },
  {
   "cell_type": "code",
   "execution_count": null,
   "id": "bridal-registrar",
   "metadata": {},
   "outputs": [],
   "source": [
    "A.T #Transposing the matrices"
   ]
  },
  {
   "cell_type": "code",
   "execution_count": null,
   "id": "documentary-burning",
   "metadata": {},
   "outputs": [],
   "source": [
    "B.T @ A #Matrices 3x2 been 2x3 crossing with 3x3"
   ]
  },
  {
   "cell_type": "markdown",
   "id": "intelligent-cooper",
   "metadata": {},
   "source": [
    "# Size of objects in Memory"
   ]
  },
  {
   "cell_type": "markdown",
   "id": "announced-pattern",
   "metadata": {},
   "source": [
    "### Int, floats"
   ]
  },
  {
   "cell_type": "code",
   "execution_count": null,
   "id": "veterinary-street",
   "metadata": {},
   "outputs": [],
   "source": [
    "#An integer in python is > 24bytes\n",
    "sys.getsizeof(1)"
   ]
  },
  {
   "cell_type": "code",
   "execution_count": null,
   "id": "hourly-combat",
   "metadata": {},
   "outputs": [],
   "source": [
    "#Longs are even larger\n",
    "sys.getsizeof(10**100)"
   ]
  },
  {
   "cell_type": "code",
   "execution_count": null,
   "id": "multiple-mobile",
   "metadata": {},
   "outputs": [],
   "source": [
    "#Numpy size is much smaller\n",
    "np.dtype(int).itemsize"
   ]
  },
  {
   "cell_type": "code",
   "execution_count": null,
   "id": "capital-bahamas",
   "metadata": {},
   "outputs": [],
   "source": [
    "np.dtype(np.int8).itemsize"
   ]
  },
  {
   "cell_type": "code",
   "execution_count": null,
   "id": "given-vintage",
   "metadata": {},
   "outputs": [],
   "source": [
    "np.dtype(float).itemsize"
   ]
  },
  {
   "cell_type": "markdown",
   "id": "latest-causing",
   "metadata": {},
   "source": [
    "### Lists are even larger"
   ]
  },
  {
   "cell_type": "code",
   "execution_count": null,
   "id": "elect-fault",
   "metadata": {},
   "outputs": [],
   "source": [
    "#A one-element list\n",
    "sys.getsizeof([1])"
   ]
  },
  {
   "cell_type": "code",
   "execution_count": null,
   "id": "raising-handle",
   "metadata": {},
   "outputs": [],
   "source": [
    "#An array of one element in numpy\n",
    "np.array([1]).nbytes"
   ]
  },
  {
   "cell_type": "markdown",
   "id": "traditional-bibliography",
   "metadata": {},
   "source": [
    "### And performance is also important"
   ]
  },
  {
   "cell_type": "code",
   "execution_count": null,
   "id": "logical-cleaner",
   "metadata": {},
   "outputs": [],
   "source": [
    "l = list(range(1000))\n",
    "a = np.arange(1000)"
   ]
  },
  {
   "cell_type": "code",
   "execution_count": null,
   "id": "scenic-korean",
   "metadata": {},
   "outputs": [],
   "source": [
    "%time sum([x ** 2 for x in l]) #It's for python"
   ]
  },
  {
   "cell_type": "code",
   "execution_count": null,
   "id": "improving-labor",
   "metadata": {},
   "outputs": [],
   "source": [
    "%time np.sum(a ** 2) #It's for numpy"
   ]
  },
  {
   "cell_type": "markdown",
   "id": "pleased-horror",
   "metadata": {},
   "source": [
    "# Useful Numpy Functions"
   ]
  },
  {
   "cell_type": "markdown",
   "id": "possible-specific",
   "metadata": {},
   "source": [
    "### Random"
   ]
  },
  {
   "cell_type": "code",
   "execution_count": null,
   "id": "smaller-hudson",
   "metadata": {},
   "outputs": [],
   "source": [
    "np.random.random(size=2)"
   ]
  },
  {
   "cell_type": "code",
   "execution_count": null,
   "id": "sealed-diving",
   "metadata": {},
   "outputs": [],
   "source": [
    "np.random.normal(size=2)"
   ]
  },
  {
   "cell_type": "code",
   "execution_count": null,
   "id": "experienced-shelter",
   "metadata": {},
   "outputs": [],
   "source": [
    "np.random.rand(2, 4)"
   ]
  },
  {
   "cell_type": "markdown",
   "id": "elegant-spyware",
   "metadata": {},
   "source": [
    "### Arange"
   ]
  },
  {
   "cell_type": "code",
   "execution_count": null,
   "id": "bronze-scroll",
   "metadata": {},
   "outputs": [],
   "source": [
    "np.arange(10)"
   ]
  },
  {
   "cell_type": "code",
   "execution_count": null,
   "id": "editorial-thirty",
   "metadata": {},
   "outputs": [],
   "source": [
    "np.arange(5, 10)"
   ]
  },
  {
   "cell_type": "code",
   "execution_count": null,
   "id": "blind-terrorism",
   "metadata": {},
   "outputs": [],
   "source": [
    "np.arange(0, 1, -1)"
   ]
  },
  {
   "cell_type": "markdown",
   "id": "therapeutic-jacksonville",
   "metadata": {},
   "source": [
    "### Reshape"
   ]
  },
  {
   "cell_type": "code",
   "execution_count": null,
   "id": "strategic-receiver",
   "metadata": {},
   "outputs": [],
   "source": [
    "np.arange(10).reshape(2, 5)"
   ]
  },
  {
   "cell_type": "code",
   "execution_count": null,
   "id": "extreme-support",
   "metadata": {},
   "outputs": [],
   "source": [
    "np.arange(10).reshape(5, 2)"
   ]
  },
  {
   "cell_type": "markdown",
   "id": "suitable-bleeding",
   "metadata": {},
   "source": [
    "### Linspace"
   ]
  },
  {
   "cell_type": "code",
   "execution_count": null,
   "id": "referenced-james",
   "metadata": {},
   "outputs": [],
   "source": [
    "np.linspace(0, 1, 5)"
   ]
  },
  {
   "cell_type": "code",
   "execution_count": null,
   "id": "hybrid-horror",
   "metadata": {},
   "outputs": [],
   "source": [
    "np.linspace(0, 1, 20)"
   ]
  },
  {
   "cell_type": "code",
   "execution_count": null,
   "id": "reliable-ceremony",
   "metadata": {},
   "outputs": [],
   "source": [
    "np.linspace(0, 1, 20, False)"
   ]
  },
  {
   "cell_type": "markdown",
   "id": "lined-industry",
   "metadata": {},
   "source": [
    "### Zeros, ones, empty"
   ]
  },
  {
   "cell_type": "code",
   "execution_count": null,
   "id": "valued-stereo",
   "metadata": {},
   "outputs": [],
   "source": [
    "np.zeros(5) #It makes the selected element become zero"
   ]
  },
  {
   "cell_type": "code",
   "execution_count": null,
   "id": "dental-neutral",
   "metadata": {},
   "outputs": [],
   "source": [
    "np.zeros((3, 3))"
   ]
  },
  {
   "cell_type": "code",
   "execution_count": null,
   "id": "personalized-congo",
   "metadata": {},
   "outputs": [],
   "source": [
    "np.zeros((3, 3), dtype=np.int)"
   ]
  },
  {
   "cell_type": "code",
   "execution_count": null,
   "id": "intense-melissa",
   "metadata": {},
   "outputs": [],
   "source": [
    "np.ones(5)"
   ]
  },
  {
   "cell_type": "code",
   "execution_count": null,
   "id": "complete-wales",
   "metadata": {},
   "outputs": [],
   "source": [
    "np.ones((3,3))"
   ]
  },
  {
   "cell_type": "code",
   "execution_count": null,
   "id": "biblical-shore",
   "metadata": {},
   "outputs": [],
   "source": [
    "np.empty(5)"
   ]
  },
  {
   "cell_type": "code",
   "execution_count": null,
   "id": "boring-customer",
   "metadata": {},
   "outputs": [],
   "source": [
    "np.empty((2, 2))"
   ]
  },
  {
   "cell_type": "markdown",
   "id": "successful-threat",
   "metadata": {},
   "source": [
    "### Identity and eye"
   ]
  },
  {
   "cell_type": "code",
   "execution_count": null,
   "id": "surrounded-skill",
   "metadata": {},
   "outputs": [],
   "source": [
    "np.identity(3)"
   ]
  },
  {
   "cell_type": "code",
   "execution_count": null,
   "id": "seventh-spine",
   "metadata": {},
   "outputs": [],
   "source": [
    "np.eye(3, 3)"
   ]
  },
  {
   "cell_type": "code",
   "execution_count": null,
   "id": "productive-crisis",
   "metadata": {},
   "outputs": [],
   "source": [
    "np.eye(8, 4)"
   ]
  },
  {
   "cell_type": "code",
   "execution_count": null,
   "id": "hawaiian-coach",
   "metadata": {},
   "outputs": [],
   "source": [
    "np.eye(8, 4, k=1)"
   ]
  },
  {
   "cell_type": "code",
   "execution_count": null,
   "id": "moral-planning",
   "metadata": {},
   "outputs": [],
   "source": [
    "np.eye(8, 4, k=3)"
   ]
  }
 ],
 "metadata": {
  "kernelspec": {
   "display_name": "Python 3",
   "language": "python",
   "name": "python3"
  },
  "language_info": {
   "codemirror_mode": {
    "name": "ipython",
    "version": 3
   },
   "file_extension": ".py",
   "mimetype": "text/x-python",
   "name": "python",
   "nbconvert_exporter": "python",
   "pygments_lexer": "ipython3",
   "version": "3.8.5"
  }
 },
 "nbformat": 4,
 "nbformat_minor": 5
}
